{
 "cells": [
  {
   "cell_type": "code",
   "execution_count": 2,
   "metadata": {},
   "outputs": [],
   "source": [
    "import os\n",
    "import shutil\n",
    "import numpy as np"
   ]
  },
  {
   "cell_type": "code",
   "execution_count": 14,
   "metadata": {},
   "outputs": [],
   "source": [
    "root_dir = \"./data/val\"\n",
    "filenames = os.listdir('./data/val/ann_dir/')\n",
    "\n",
    "os.makedirs(\"./data/val/debug_img\", exist_ok=True)\n",
    "os.makedirs(\"./data/val/debug_ann\", exist_ok=True)\n",
    "\n",
    "choice_files = np.random.choice(filenames, 3, replace=True)\n",
    "for filename in choice_files:\n",
    "    name = filename[:-4]\n",
    "    shutil.copy(os.path.join(\"./data/val/img_dir\", name+'.jpg'), \"./data/val/debug_img/\")\n",
    "    shutil.copy(os.path.join(\"./data/val/ann_dir\", name+'.png'), \"./data/val/debug_ann/\")"
   ]
  }
 ],
 "metadata": {
  "kernelspec": {
   "display_name": "base",
   "language": "python",
   "name": "python3"
  },
  "language_info": {
   "codemirror_mode": {
    "name": "ipython",
    "version": 3
   },
   "file_extension": ".py",
   "mimetype": "text/x-python",
   "name": "python",
   "nbconvert_exporter": "python",
   "pygments_lexer": "ipython3",
   "version": "3.8.5"
  },
  "orig_nbformat": 4,
  "vscode": {
   "interpreter": {
    "hash": "d4d1e4263499bec80672ea0156c357c1ee493ec2b1c70f0acce89fc37c4a6abe"
   }
  }
 },
 "nbformat": 4,
 "nbformat_minor": 2
}
